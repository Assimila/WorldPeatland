{
 "cells": [
  {
   "cell_type": "code",
   "execution_count": 1,
   "id": "0b52eb79",
   "metadata": {},
   "outputs": [],
   "source": [
    "\n",
    "import os\n",
    "import requests\n",
    "from glob import glob\n",
    "from requests.utils import requote_uri\n",
    "from osgeo import gdal, ogr, osr\n",
    "import tempfile\n",
    "from pathlib import Path\n",
    "import pandas as pd\n",
    "import json\n",
    "from pyproj import Transformer\n",
    "from calendar import monthrange\n"
   ]
  },
  {
   "cell_type": "code",
   "execution_count": 2,
   "id": "9d73863c",
   "metadata": {},
   "outputs": [],
   "source": [
    "geojson_fname = '/workspace/WorldPeatland/sites/MerBleue.geojson'"
   ]
  },
  {
   "cell_type": "code",
   "execution_count": 3,
   "id": "f0ecd0fb",
   "metadata": {},
   "outputs": [],
   "source": [
    "\n",
    "def get_polygon(fname):\n",
    "    \"\"\"\n",
    "    Get POLYGON string from GeoJSON coordinates\n",
    "    \"\"\"\n",
    "    with open(fname) as f:\n",
    "        geojson = json.load(f)\n",
    "\n",
    "    polygon = \"\"\n",
    "    for coordinate in geojson['features'][0]['geometry']['coordinates'][0]:\n",
    "        _coordinate = \" \".join(str(x) for x in coordinate)\n",
    "        polygon = f\"{polygon} {_coordinate}, \"\n",
    "\n",
    "    polygon = polygon[0:-2]\n",
    "\n",
    "    return polygon\n"
   ]
  },
  {
   "cell_type": "code",
   "execution_count": 4,
   "id": "4c5f0f5d",
   "metadata": {},
   "outputs": [],
   "source": [
    "polygon = get_polygon(geojson_fname)"
   ]
  },
  {
   "cell_type": "code",
   "execution_count": 5,
   "id": "f1f76410",
   "metadata": {},
   "outputs": [],
   "source": [
    "url_start = (f\"https://datahub.creodias.eu/odata/v1/Products?$filter=\")"
   ]
  },
  {
   "cell_type": "code",
   "execution_count": 6,
   "id": "0fee4db5",
   "metadata": {},
   "outputs": [],
   "source": [
    "url_end = (f\"(Online eq true) and \"\n",
    "           f\"(OData.CSC.Intersects(Footprint=geography%27SRID=4326;POLYGON%20((\"\n",
    "           f\"{polygon}\"\n",
    "           f\"))%27)) and \"\n",
    "           f\"(((((Collection/Name eq %27SENTINEL-1%27) and \"\n",
    "           f\"(((Attributes/OData.CSC.StringAttribute/any(i0:i0/Name eq %27platformSerialIdentifier%27 and i0/Value eq %27A%27)) or \"\n",
    "           \"(Attributes/OData.CSC.StringAttribute/any(i0:i0/Name eq %27platformSerialIdentifier%27 and i0/Value eq %27B%27)))) and \"\n",
    "           f\"(((Attributes/OData.CSC.StringAttribute/any(i0:i0/Name eq %27productType%27 and%20i0/Value eq %27GRD-COG%27)))) and \"\n",
    "           f\"(((Attributes/OData.CSC.StringAttribute/any(i0:i0/Name eq %27operationalMode%27 and 0i0/Value eq %27IW%27)))) and \"\n",
    "           f\"(((Attributes/OData.CSC.StringAttribute/any(i0:i0/Name eq %27orbitDirection%27 and i0/Value eq %27ASCENDING%27)) or \"\n",
    "           \"(Attributes/OData.CSC.StringAttribute/any(i0:i0/Name eq %27orbitDirection%27 and i0/Value eq %27DESCENDING%27)))) and \"\n",
    "           f\"(((Attributes/OData.CSC.StringAttribute/any(i0:i0/Name eq %27polarisationChannels%27 and i0/Value eq %27VV%26VH%27))))))))\"\n",
    "           f\")&$expand=Attributes&$expand=Assets&$orderby=ContentDate/Start asc&$top=20\")"
   ]
  },
  {
   "cell_type": "code",
   "execution_count": 7,
   "id": "2f880272",
   "metadata": {},
   "outputs": [
    {
     "name": "stdout",
     "output_type": "stream",
     "text": [
      "https://datahub.creodias.eu/odata/v1/Products?$filter=((ContentDate/Start%20ge%202017-01-01T00:00:00.000Z%20and%20ContentDate/Start%20le%202017-01-31T23:59:59.999Z)%20and%20(Online%20eq%20true)%20and%20(OData.CSC.Intersects(Footprint=geography%27SRID=4326;POLYGON%20((%20-75.58009416302863%2045.423671289918474,%20%20-75.58009416302863%2045.37776159126091,%20%20-75.4396002179461%2045.37776159126091,%20%20-75.4396002179461%2045.423671289918474,%20%20-75.58009416302863%2045.423671289918474))%27))%20and%20(((((Collection/Name%20eq%20%27SENTINEL-1%27)%20and%20(((Attributes/OData.CSC.StringAttribute/any(i0:i0/Name%20eq%20%27platformSerialIdentifier%27%20and%20i0/Value%20eq%20%27A%27))%20or%20(Attributes/OData.CSC.StringAttribute/any(i0:i0/Name%20eq%20%27platformSerialIdentifier%27%20and%20i0/Value%20eq%20%27B%27))))%20and%20(((Attributes/OData.CSC.StringAttribute/any(i0:i0/Name%20eq%20%27productType%27%20and%20i0/Value%20eq%20%27GRD-COG%27))))%20and%20(((Attributes/OData.CSC.StringAttribute/any(i0:i0/Name%20eq%20%27operationalMode%27%20and%200i0/Value%20eq%20%27IW%27))))%20and%20(((Attributes/OData.CSC.StringAttribute/any(i0:i0/Name%20eq%20%27orbitDirection%27%20and%20i0/Value%20eq%20%27ASCENDING%27))%20or%20(Attributes/OData.CSC.StringAttribute/any(i0:i0/Name%20eq%20%27orbitDirection%27%20and%20i0/Value%20eq%20%27DESCENDING%27))))%20and%20(((Attributes/OData.CSC.StringAttribute/any(i0:i0/Name%20eq%20%27polarisationChannels%27%20and%20i0/Value%20eq%20%27VV%26VH%27)))))))))&$expand=Attributes&$expand=Assets&$orderby=ContentDate/Start%20asc&$top=20\n"
     ]
    }
   ],
   "source": [
    "for year in range(2017, 2024+1):\n",
    "    for month in range(1, 12+1):\n",
    "        start_date = f'{year}-{month:02}-01T00:00:00.000Z'\n",
    "        end_day = monthrange(year, month)[1]\n",
    "        end_date = f'{year}-{month:02}-{end_day:02}T23:59:59.999Z'\n",
    "\n",
    "        url = (f\"{url_start}\"   \n",
    "               f\"((ContentDate/Start ge {start_date} and ContentDate/Start le {end_date}) and \"\n",
    "               f\"{url_end}\")\n",
    "        \n",
    "        url_encoded = requote_uri(url)\n",
    "        url_encoded_cleared = url_encoded.replace('%0A', '')\n",
    "        \n",
    "        response = requests.get(url_encoded_cleared)\n",
    "        response = response.json()\n",
    "\n",
    "        print(url_encoded_cleared)\n",
    "        break\n",
    "        \n",
    "    break\n"
   ]
  },
  {
   "cell_type": "code",
   "execution_count": 8,
   "id": "52fca7c6",
   "metadata": {},
   "outputs": [],
   "source": [
    "cloud_cover_le = 30"
   ]
  },
  {
   "cell_type": "code",
   "execution_count": 9,
   "id": "02bfc43d",
   "metadata": {},
   "outputs": [],
   "source": [
    "url_start = (f\"https://datahub.creodias.eu/odata/v1/Products?$filter=\"\n",
    "             f\"((Attributes/OData.CSC.DoubleAttribute/any(i0:i0/Name eq %27cloudCover%27 and i0/Value le {cloud_cover_le})) and \")\n",
    "\n",
    "url_end = (f\"(Online eq true) and \"\n",
    "           f\"(OData.CSC.Intersects(Footprint=geography%27SRID=4326;POLYGON%20((\"\n",
    "           f\"{polygon}\"\n",
    "           f\"))%27)) and \"\n",
    "           f\"(((((Collection/Name eq %27SENTINEL-2%27) and \"\n",
    "           f\"(((Attributes/OData.CSC.StringAttribute/any(i0:i0/Name eq %27productType%27 and i0/Value eq %27S2MSI2A%27)))) and \"\n",
    "           f\"(((Attributes/OData.CSC.StringAttribute/any(i0:i0/Name eq %27processorVersion%27 and i0/Value eq %2705.00%27)) or (Attributes/OData.CSC.StringAttribute/any(i0:i0/Name eq %27processorVersion%27 and i0/Value eq %2705.09%27))))))))\"\n",
    "           f\")&$expand=Attributes&$expand=Assets&$orderby=ContentDate/Start asc&$top=200\")\n"
   ]
  },
  {
   "cell_type": "code",
   "execution_count": 10,
   "id": "6edfc390",
   "metadata": {},
   "outputs": [
    {
     "name": "stdout",
     "output_type": "stream",
     "text": [
      "{'@odata.context': '$metadata#Products(Attributes())(Assets())', 'value': [{'@odata.mediaContentType': 'application/octet-stream', 'Id': '90e4ad75-9af1-409f-9856-f09237784baa', 'Name': 'S2A_MSIL2A_20170106T155631_N0500_R054_T18TVR_20230920T062905.SAFE', 'ContentType': 'application/octet-stream', 'ContentLength': 930657445, 'OriginDate': '2024-04-20T07:41:15.110Z', 'PublicationDate': '2024-04-20T07:49:21.337Z', 'ModificationDate': '2024-04-30T23:17:47.205Z', 'Online': True, 'EvictionDate': '', 'S3Path': '/eodata/Sentinel-2/MSI/L2A_N0500/2017/01/06/S2A_MSIL2A_20170106T155631_N0500_R054_T18TVR_20230920T062905.SAFE', 'Checksum': [{'Value': 'c0f6e5b2b54e44652abfbb3516afaedc', 'Algorithm': 'MD5', 'ChecksumDate': '2024-04-20T07:49:34.098670Z'}, {'Value': 'fba49e8c2318c36fdc3a0307a5dbea6a74e71f2134e8e3e2a4cd2854e8e7323d', 'Algorithm': 'BLAKE3', 'ChecksumDate': '2024-04-20T07:49:35.911170Z'}], 'ContentDate': {'Start': '2017-01-06T15:56:31.026Z', 'End': '2017-01-06T15:56:31.026Z'}, 'Footprint': \"geography'SRID=4326;POLYGON ((-75.94034 45.0598495262101, -74.87604 45.0651927065434, -74.87384 46.0535047357316, -75.59921 46.0498016154169, -75.63208 45.9550506575446, -75.68283 45.8085057578457, -75.73361 45.6619549378054, -75.784454 45.515383286047, -75.83484 45.3687445689396, -75.88495 45.2219959050248, -75.93512 45.0752722862432, -75.94034 45.0598495262101))'\", 'GeoFootprint': {'type': 'Polygon', 'coordinates': [[[-75.94034, 45.0598495262101], [-74.87604, 45.0651927065434], [-74.87384, 46.0535047357316], [-75.59921, 46.0498016154169], [-75.63208, 45.9550506575446], [-75.68283, 45.8085057578457], [-75.73361, 45.6619549378054], [-75.784454, 45.515383286047], [-75.83484, 45.3687445689396], [-75.88495, 45.2219959050248], [-75.93512, 45.0752722862432], [-75.94034, 45.0598495262101]]]}, 'Attributes': [{'@odata.type': '#OData.CSC.StringAttribute', 'Name': 'origin', 'Value': 'ESA', 'ValueType': 'String'}, {'@odata.type': '#OData.CSC.StringAttribute', 'Name': 'tileId', 'Value': '18TVR', 'ValueType': 'String'}, {'@odata.type': '#OData.CSC.DoubleAttribute', 'Name': 'cloudCover', 'Value': 25.528657, 'ValueType': 'Double'}, {'@odata.type': '#OData.CSC.StringAttribute', 'Name': 'datastripId', 'Value': 'S2A_OPER_MSI_L2A_DS_S2RP_20230920T062905_S20170106T155630_N05.00', 'ValueType': 'String'}, {'@odata.type': '#OData.CSC.IntegerAttribute', 'Name': 'orbitNumber', 'Value': 8059, 'ValueType': 'Integer'}, {'@odata.type': '#OData.CSC.StringAttribute', 'Name': 'orbitDirection', 'Value': 'DESCENDING', 'ValueType': 'String'}, {'@odata.type': '#OData.CSC.DateTimeOffsetAttribute', 'Name': 'processingDate', 'Value': '2023-09-20T06:29:05+00:00', 'ValueType': 'DateTimeOffset'}, {'@odata.type': '#OData.CSC.StringAttribute', 'Name': 'productGroupId', 'Value': 'GS2A_20170106T155631_008059_N05.00', 'ValueType': 'String'}, {'@odata.type': '#OData.CSC.StringAttribute', 'Name': 'processingLevel', 'Value': 'S2MSI2A', 'ValueType': 'String'}, {'@odata.type': '#OData.CSC.StringAttribute', 'Name': 'processorVersion', 'Value': '05.00', 'ValueType': 'String'}, {'@odata.type': '#OData.CSC.StringAttribute', 'Name': 'platformShortName', 'Value': 'SENTINEL-2', 'ValueType': 'String'}, {'@odata.type': '#OData.CSC.StringAttribute', 'Name': 'instrumentShortName', 'Value': 'MSI', 'ValueType': 'String'}, {'@odata.type': '#OData.CSC.IntegerAttribute', 'Name': 'relativeOrbitNumber', 'Value': 54, 'ValueType': 'Integer'}, {'@odata.type': '#OData.CSC.StringAttribute', 'Name': 'platformSerialIdentifier', 'Value': 'A', 'ValueType': 'String'}, {'@odata.type': '#OData.CSC.StringAttribute', 'Name': 'productType', 'Value': 'S2MSI2A', 'ValueType': 'String'}, {'@odata.type': '#OData.CSC.DateTimeOffsetAttribute', 'Name': 'beginningDateTime', 'Value': '2017-01-06T15:56:31.026Z', 'ValueType': 'DateTimeOffset'}, {'@odata.type': '#OData.CSC.DateTimeOffsetAttribute', 'Name': 'endingDateTime', 'Value': '2017-01-06T15:56:31.026Z', 'ValueType': 'DateTimeOffset'}], 'Assets': [{'Type': 'QUICKLOOK', 'Id': 'd78f8bd1-c473-46d1-80a3-28173832e78a', 'DownloadLink': 'https://datahub.creodias.eu/odata/v1/Assets(d78f8bd1-c473-46d1-80a3-28173832e78a)/$value', 'S3Path': '/eodata/Sentinel-2/MSI/L2A_N0500/2017/01/06/S2A_MSIL2A_20170106T155631_N0500_R054_T18TVR_20230920T062905.SAFE'}]}, {'@odata.mediaContentType': 'application/octet-stream', 'Id': '4c5e34cf-d2c7-482f-9cb8-6734bbca0908', 'Name': 'S2A_MSIL2A_20170116T155601_N0500_R054_T18TVR_20231015T174317.SAFE', 'ContentType': 'application/octet-stream', 'ContentLength': 926827361, 'OriginDate': '2024-04-28T21:36:40.903Z', 'PublicationDate': '2024-04-28T21:44:14.682Z', 'ModificationDate': '2024-04-28T21:44:31.210Z', 'Online': True, 'EvictionDate': '', 'S3Path': '/eodata/Sentinel-2/MSI/L2A_N0500/2017/01/16/S2A_MSIL2A_20170116T155601_N0500_R054_T18TVR_20231015T174317.SAFE', 'Checksum': [{'Value': 'e5bc6c07b9627e213419422570e0c2be', 'Algorithm': 'MD5', 'ChecksumDate': '2024-04-28T21:44:28.919053Z'}, {'Value': '2743717b8fdfe0cecea3332b6731b3325e567326529698e95407d6a99741e4e0', 'Algorithm': 'BLAKE3', 'ChecksumDate': '2024-04-28T21:44:30.756112Z'}], 'ContentDate': {'Start': '2017-01-16T15:56:01.026Z', 'End': '2017-01-16T15:56:01.026Z'}, 'Footprint': \"geography'SRID=4326;POLYGON ((-75.93396 45.0598815988563, -74.87604 45.0651927065434, -74.87384 46.0535047357316, -75.592865 46.0498340967714, -75.60199 46.023970321068, -75.652954 45.8774005181979, -75.70361 45.7308015402129, -75.75412 45.5841737626785, -75.80493 45.4376047606948, -75.85498 45.2908966143728, -75.90527 45.1442209254128, -75.93396 45.0598815988563))'\", 'GeoFootprint': {'type': 'Polygon', 'coordinates': [[[-75.93396, 45.0598815988563], [-74.87604, 45.0651927065434], [-74.87384, 46.0535047357316], [-75.592865, 46.0498340967714], [-75.60199, 46.023970321068], [-75.652954, 45.8774005181979], [-75.70361, 45.7308015402129], [-75.75412, 45.5841737626785], [-75.80493, 45.4376047606948], [-75.85498, 45.2908966143728], [-75.90527, 45.1442209254128], [-75.93396, 45.0598815988563]]]}, 'Attributes': [{'@odata.type': '#OData.CSC.StringAttribute', 'Name': 'origin', 'Value': 'ESA', 'ValueType': 'String'}, {'@odata.type': '#OData.CSC.StringAttribute', 'Name': 'tileId', 'Value': '18TVR', 'ValueType': 'String'}, {'@odata.type': '#OData.CSC.DoubleAttribute', 'Name': 'cloudCover', 'Value': 11.074228, 'ValueType': 'Double'}, {'@odata.type': '#OData.CSC.StringAttribute', 'Name': 'datastripId', 'Value': 'S2A_OPER_MSI_L2A_DS_S2RP_20231015T174317_S20170116T155948_N05.00', 'ValueType': 'String'}, {'@odata.type': '#OData.CSC.IntegerAttribute', 'Name': 'orbitNumber', 'Value': 8202, 'ValueType': 'Integer'}, {'@odata.type': '#OData.CSC.DateTimeOffsetAttribute', 'Name': 'processingDate', 'Value': '2023-10-15T17:43:17+00:00', 'ValueType': 'DateTimeOffset'}, {'@odata.type': '#OData.CSC.StringAttribute', 'Name': 'productGroupId', 'Value': 'GS2A_20170116T155601_008202_N05.00', 'ValueType': 'String'}, {'@odata.type': '#OData.CSC.StringAttribute', 'Name': 'processingLevel', 'Value': 'S2MSI2A', 'ValueType': 'String'}, {'@odata.type': '#OData.CSC.StringAttribute', 'Name': 'processorVersion', 'Value': '05.00', 'ValueType': 'String'}, {'@odata.type': '#OData.CSC.StringAttribute', 'Name': 'platformShortName', 'Value': 'SENTINEL-2', 'ValueType': 'String'}, {'@odata.type': '#OData.CSC.StringAttribute', 'Name': 'instrumentShortName', 'Value': 'MSI', 'ValueType': 'String'}, {'@odata.type': '#OData.CSC.IntegerAttribute', 'Name': 'relativeOrbitNumber', 'Value': 54, 'ValueType': 'Integer'}, {'@odata.type': '#OData.CSC.StringAttribute', 'Name': 'platformSerialIdentifier', 'Value': 'A', 'ValueType': 'String'}, {'@odata.type': '#OData.CSC.StringAttribute', 'Name': 'productType', 'Value': 'S2MSI2A', 'ValueType': 'String'}, {'@odata.type': '#OData.CSC.DateTimeOffsetAttribute', 'Name': 'beginningDateTime', 'Value': '2017-01-16T15:56:01.026Z', 'ValueType': 'DateTimeOffset'}, {'@odata.type': '#OData.CSC.DateTimeOffsetAttribute', 'Name': 'endingDateTime', 'Value': '2017-01-16T15:56:01.026Z', 'ValueType': 'DateTimeOffset'}], 'Assets': [{'Type': 'QUICKLOOK', 'Id': '19e87258-f46e-42b9-9914-69a98ab9a592', 'DownloadLink': 'https://datahub.creodias.eu/odata/v1/Assets(19e87258-f46e-42b9-9914-69a98ab9a592)/$value', 'S3Path': '/eodata/Sentinel-2/MSI/L2A_N0500/2017/01/16/S2A_MSIL2A_20170116T155601_N0500_R054_T18TVR_20231015T174317.SAFE'}]}]}\n"
     ]
    },
    {
     "name": "stdout",
     "output_type": "stream",
     "text": [
      "{'@odata.context': '$metadata#Products(Attributes())(Assets())', 'value': [{'@odata.mediaContentType': 'application/octet-stream', 'Id': 'ddf2470b-7537-4b72-a67e-7d189d0ae311', 'Name': 'S2A_MSIL2A_20180124T160541_N0500_R097_T18TVR_20230915T133805.SAFE', 'ContentType': 'application/octet-stream', 'ContentLength': 1232006092, 'OriginDate': '2024-03-14T23:45:41.662Z', 'PublicationDate': '2024-03-15T00:11:12.735Z', 'ModificationDate': '2024-04-26T21:53:21.729Z', 'Online': True, 'EvictionDate': '', 'S3Path': '/eodata/Sentinel-2/MSI/L2A_N0500/2018/01/24/S2A_MSIL2A_20180124T160541_N0500_R097_T18TVR_20230915T133805.SAFE', 'Checksum': [{'Value': '9741c908a38a8b5f71cfa67b22fd2beb', 'Algorithm': 'MD5', 'ChecksumDate': '2024-03-15T00:11:48.958561Z'}, {'Value': '5960912b06aefeddc05b8357328acc3ce7ffff2b363d32044b2dcd66dde74e6e', 'Algorithm': 'BLAKE3', 'ChecksumDate': '2024-03-15T00:11:51.529074Z'}], 'ContentDate': {'Start': '2018-01-24T16:05:41.026Z', 'End': '2018-01-24T16:05:41.026Z'}, 'Footprint': \"geography'SRID=4326;POLYGON ((-76.2930489152765 46.0462596089832, -76.2705835769321 45.0581916702363, -74.8760255014887 45.0651927065434, -74.8738327627759 46.0535047357316, -76.2930489152765 46.0462596089832))'\", 'GeoFootprint': {'type': 'Polygon', 'coordinates': [[[-76.2930489152765, 46.0462596089832], [-76.2705835769321, 45.0581916702363], [-74.8760255014887, 45.0651927065434], [-74.8738327627759, 46.0535047357316], [-76.2930489152765, 46.0462596089832]]]}, 'Attributes': [{'@odata.type': '#OData.CSC.StringAttribute', 'Name': 'origin', 'Value': 'ESA', 'ValueType': 'String'}, {'@odata.type': '#OData.CSC.StringAttribute', 'Name': 'tileId', 'Value': '18TVR', 'ValueType': 'String'}, {'@odata.type': '#OData.CSC.DoubleAttribute', 'Name': 'cloudCover', 'Value': 27.652183, 'ValueType': 'Double'}, {'@odata.type': '#OData.CSC.StringAttribute', 'Name': 'datastripId', 'Value': 'S2A_OPER_MSI_L2A_DS_S2RP_20230915T133805_S20180124T160536_N05.00', 'ValueType': 'String'}, {'@odata.type': '#OData.CSC.IntegerAttribute', 'Name': 'orbitNumber', 'Value': 13536, 'ValueType': 'Integer'}, {'@odata.type': '#OData.CSC.StringAttribute', 'Name': 'orbitDirection', 'Value': 'DESCENDING', 'ValueType': 'String'}, {'@odata.type': '#OData.CSC.DateTimeOffsetAttribute', 'Name': 'processingDate', 'Value': '2023-09-15T13:38:05+00:00', 'ValueType': 'DateTimeOffset'}, {'@odata.type': '#OData.CSC.StringAttribute', 'Name': 'productGroupId', 'Value': 'GS2A_20180124T160541_013536_N05.00', 'ValueType': 'String'}, {'@odata.type': '#OData.CSC.StringAttribute', 'Name': 'processingLevel', 'Value': 'S2MSI2A', 'ValueType': 'String'}, {'@odata.type': '#OData.CSC.StringAttribute', 'Name': 'processorVersion', 'Value': '05.00', 'ValueType': 'String'}, {'@odata.type': '#OData.CSC.StringAttribute', 'Name': 'platformShortName', 'Value': 'SENTINEL-2', 'ValueType': 'String'}, {'@odata.type': '#OData.CSC.StringAttribute', 'Name': 'instrumentShortName', 'Value': 'MSI', 'ValueType': 'String'}, {'@odata.type': '#OData.CSC.IntegerAttribute', 'Name': 'relativeOrbitNumber', 'Value': 97, 'ValueType': 'Integer'}, {'@odata.type': '#OData.CSC.StringAttribute', 'Name': 'platformSerialIdentifier', 'Value': 'A', 'ValueType': 'String'}, {'@odata.type': '#OData.CSC.StringAttribute', 'Name': 'productType', 'Value': 'S2MSI2A', 'ValueType': 'String'}, {'@odata.type': '#OData.CSC.DateTimeOffsetAttribute', 'Name': 'beginningDateTime', 'Value': '2018-01-24T16:05:41.026Z', 'ValueType': 'DateTimeOffset'}, {'@odata.type': '#OData.CSC.DateTimeOffsetAttribute', 'Name': 'endingDateTime', 'Value': '2018-01-24T16:05:41.026Z', 'ValueType': 'DateTimeOffset'}], 'Assets': [{'Type': 'QUICKLOOK', 'Id': '31f4b8f7-cf22-4ff3-8f68-e7f433f2864f', 'DownloadLink': 'https://datahub.creodias.eu/odata/v1/Assets(31f4b8f7-cf22-4ff3-8f68-e7f433f2864f)/$value', 'S3Path': '/eodata/Sentinel-2/MSI/L2A_N0500/2018/01/24/S2A_MSIL2A_20180124T160541_N0500_R097_T18TVR_20230915T133805.SAFE'}]}, {'@odata.mediaContentType': 'application/octet-stream', 'Id': '216110da-660e-4685-bc6d-08ab08f86eb2', 'Name': 'S2B_MSIL2A_20180126T155519_N0500_R054_T18TVR_20230810T073603.SAFE', 'ContentType': 'application/octet-stream', 'ContentLength': 927908362, 'OriginDate': '2024-04-06T21:56:47.197Z', 'PublicationDate': '2024-04-06T22:03:09.938Z', 'ModificationDate': '2024-04-26T23:43:01.011Z', 'Online': True, 'EvictionDate': '', 'S3Path': '/eodata/Sentinel-2/MSI/L2A_N0500/2018/01/26/S2B_MSIL2A_20180126T155519_N0500_R054_T18TVR_20230810T073603.SAFE', 'Checksum': [{'Value': '25d11418b879ea952b7a2e9ebf29772a', 'Algorithm': 'MD5', 'ChecksumDate': '2024-04-06T22:03:22.451358Z'}, {'Value': 'f78470f3bd295d9bbc9b6d4db9c45199e2135fe776e94e5d911458067d8e4125', 'Algorithm': 'BLAKE3', 'ChecksumDate': '2024-04-06T22:03:24.215800Z'}], 'ContentDate': {'Start': '2018-01-26T15:55:19.027Z', 'End': '2018-01-26T15:55:19.027Z'}, 'Footprint': \"geography'SRID=4326;POLYGON ((-75.955444 45.0597737991403, -74.87604 45.0651927065434, -74.87384 46.0535047357316, -75.61517 46.0497202088329, -75.6655 45.9040925891558, -75.716095 45.7574797258605, -75.76669 45.6109582168978, -75.816956 45.4643552109526, -75.86722 45.3177238271116, -75.91751 45.1710281920598, -75.955444 45.0597737991403))'\", 'GeoFootprint': {'type': 'Polygon', 'coordinates': [[[-75.955444, 45.0597737991403], [-74.87604, 45.0651927065434], [-74.87384, 46.0535047357316], [-75.61517, 46.0497202088329], [-75.6655, 45.9040925891558], [-75.716095, 45.7574797258605], [-75.76669, 45.6109582168978], [-75.816956, 45.4643552109526], [-75.86722, 45.3177238271116], [-75.91751, 45.1710281920598], [-75.955444, 45.0597737991403]]]}, 'Attributes': [{'@odata.type': '#OData.CSC.StringAttribute', 'Name': 'origin', 'Value': 'ESA', 'ValueType': 'String'}, {'@odata.type': '#OData.CSC.StringAttribute', 'Name': 'tileId', 'Value': '18TVR', 'ValueType': 'String'}, {'@odata.type': '#OData.CSC.DoubleAttribute', 'Name': 'cloudCover', 'Value': 17.54255, 'ValueType': 'Double'}, {'@odata.type': '#OData.CSC.StringAttribute', 'Name': 'datastripId', 'Value': 'S2B_OPER_MSI_L2A_DS_S2RP_20230810T073603_S20180126T155521_N05.00', 'ValueType': 'String'}, {'@odata.type': '#OData.CSC.IntegerAttribute', 'Name': 'orbitNumber', 'Value': 4656, 'ValueType': 'Integer'}, {'@odata.type': '#OData.CSC.StringAttribute', 'Name': 'orbitDirection', 'Value': 'DESCENDING', 'ValueType': 'String'}, {'@odata.type': '#OData.CSC.DateTimeOffsetAttribute', 'Name': 'processingDate', 'Value': '2023-08-10T07:36:03+00:00', 'ValueType': 'DateTimeOffset'}, {'@odata.type': '#OData.CSC.StringAttribute', 'Name': 'productGroupId', 'Value': 'GS2B_20180126T155519_004656_N05.00', 'ValueType': 'String'}, {'@odata.type': '#OData.CSC.StringAttribute', 'Name': 'processingLevel', 'Value': 'S2MSI2A', 'ValueType': 'String'}, {'@odata.type': '#OData.CSC.StringAttribute', 'Name': 'processorVersion', 'Value': '05.00', 'ValueType': 'String'}, {'@odata.type': '#OData.CSC.StringAttribute', 'Name': 'platformShortName', 'Value': 'SENTINEL-2', 'ValueType': 'String'}, {'@odata.type': '#OData.CSC.StringAttribute', 'Name': 'instrumentShortName', 'Value': 'MSI', 'ValueType': 'String'}, {'@odata.type': '#OData.CSC.IntegerAttribute', 'Name': 'relativeOrbitNumber', 'Value': 54, 'ValueType': 'Integer'}, {'@odata.type': '#OData.CSC.StringAttribute', 'Name': 'platformSerialIdentifier', 'Value': 'B', 'ValueType': 'String'}, {'@odata.type': '#OData.CSC.StringAttribute', 'Name': 'productType', 'Value': 'S2MSI2A', 'ValueType': 'String'}, {'@odata.type': '#OData.CSC.DateTimeOffsetAttribute', 'Name': 'beginningDateTime', 'Value': '2018-01-26T15:55:19.027Z', 'ValueType': 'DateTimeOffset'}, {'@odata.type': '#OData.CSC.DateTimeOffsetAttribute', 'Name': 'endingDateTime', 'Value': '2018-01-26T15:55:19.027Z', 'ValueType': 'DateTimeOffset'}], 'Assets': [{'Type': 'QUICKLOOK', 'Id': '690baaeb-b340-45cc-8e0e-6c793efb250a', 'DownloadLink': 'https://datahub.creodias.eu/odata/v1/Assets(690baaeb-b340-45cc-8e0e-6c793efb250a)/$value', 'S3Path': '/eodata/Sentinel-2/MSI/L2A_N0500/2018/01/26/S2B_MSIL2A_20180126T155519_N0500_R054_T18TVR_20230810T073603.SAFE'}]}]}\n",
      "{'@odata.context': '$metadata#Products(Attributes())(Assets())', 'value': []}\n",
      "{'@odata.context': '$metadata#Products(Attributes())(Assets())', 'value': []}\n"
     ]
    },
    {
     "name": "stdout",
     "output_type": "stream",
     "text": [
      "{'@odata.context': '$metadata#Products(Attributes())(Assets())', 'value': [{'@odata.mediaContentType': 'application/octet-stream', 'Id': '2d739b4a-1601-4c6d-9717-05bc7fdae199', 'Name': 'S2A_MSIL2A_20210108T160641_N0500_R097_T18TVR_20230602T163101.SAFE', 'ContentType': 'application/octet-stream', 'ContentLength': 1277100625, 'OriginDate': '2023-07-07T05:57:18.639Z', 'PublicationDate': '2023-07-07T23:24:55.482Z', 'ModificationDate': '2024-05-07T16:04:47.756Z', 'Online': True, 'EvictionDate': '', 'S3Path': '/eodata/Sentinel-2/MSI/L2A_N0500/2021/01/08/S2A_MSIL2A_20210108T160641_N0500_R097_T18TVR_20230602T163101.SAFE', 'Checksum': [{'Value': '761c04733e94266ad37c3df90f8d6f2a', 'Algorithm': 'MD5', 'ChecksumDate': '2023-07-07T23:25:13.809026Z'}, {'Value': 'c10ed242e9133d8cf15bbfef386bdfb216c8a724dad1f0acd6ed77bc4dc4efa9', 'Algorithm': 'BLAKE3', 'ChecksumDate': '2023-07-07T23:25:16.578989Z'}], 'ContentDate': {'Start': '2021-01-08T16:06:41.024Z', 'End': '2021-01-08T16:06:41.024Z'}, 'Footprint': \"geography'SRID=4326;POLYGON ((-76.29306 46.0462596089832, -76.27057 45.0581916702363, -74.87604 45.0651927065434, -74.87384 46.0535047357316, -76.29306 46.0462596089832))'\", 'GeoFootprint': {'type': 'Polygon', 'coordinates': [[[-76.29306, 46.0462596089832], [-76.27057, 45.0581916702363], [-74.87604, 45.0651927065434], [-74.87384, 46.0535047357316], [-76.29306, 46.0462596089832]]]}, 'Attributes': [{'@odata.type': '#OData.CSC.StringAttribute', 'Name': 'origin', 'Value': 'ESA', 'ValueType': 'String'}, {'@odata.type': '#OData.CSC.StringAttribute', 'Name': 'tileId', 'Value': '18TVR', 'ValueType': 'String'}, {'@odata.type': '#OData.CSC.DoubleAttribute', 'Name': 'cloudCover', 'Value': 0.104366, 'ValueType': 'Double'}, {'@odata.type': '#OData.CSC.StringAttribute', 'Name': 'datastripId', 'Value': 'S2A_OPER_MSI_L2A_DS_S2RP_20230602T163101_S20210108T160816_N05.00', 'ValueType': 'String'}, {'@odata.type': '#OData.CSC.IntegerAttribute', 'Name': 'orbitNumber', 'Value': 28980, 'ValueType': 'Integer'}, {'@odata.type': '#OData.CSC.StringAttribute', 'Name': 'orbitDirection', 'Value': 'DESCENDING', 'ValueType': 'String'}, {'@odata.type': '#OData.CSC.DateTimeOffsetAttribute', 'Name': 'processingDate', 'Value': '2023-06-02T16:31:01+00:00', 'ValueType': 'DateTimeOffset'}, {'@odata.type': '#OData.CSC.StringAttribute', 'Name': 'productGroupId', 'Value': 'GS2A_20210108T160641_028980_N05.00', 'ValueType': 'String'}, {'@odata.type': '#OData.CSC.StringAttribute', 'Name': 'processingLevel', 'Value': 'S2MSI2A', 'ValueType': 'String'}, {'@odata.type': '#OData.CSC.StringAttribute', 'Name': 'processorVersion', 'Value': '05.00', 'ValueType': 'String'}, {'@odata.type': '#OData.CSC.StringAttribute', 'Name': 'platformShortName', 'Value': 'SENTINEL-2', 'ValueType': 'String'}, {'@odata.type': '#OData.CSC.StringAttribute', 'Name': 'instrumentShortName', 'Value': 'MSI', 'ValueType': 'String'}, {'@odata.type': '#OData.CSC.IntegerAttribute', 'Name': 'relativeOrbitNumber', 'Value': 97, 'ValueType': 'Integer'}, {'@odata.type': '#OData.CSC.StringAttribute', 'Name': 'platformSerialIdentifier', 'Value': 'A', 'ValueType': 'String'}, {'@odata.type': '#OData.CSC.StringAttribute', 'Name': 'productType', 'Value': 'S2MSI2A', 'ValueType': 'String'}, {'@odata.type': '#OData.CSC.DateTimeOffsetAttribute', 'Name': 'beginningDateTime', 'Value': '2021-01-08T16:06:41.024Z', 'ValueType': 'DateTimeOffset'}, {'@odata.type': '#OData.CSC.DateTimeOffsetAttribute', 'Name': 'endingDateTime', 'Value': '2021-01-08T16:06:41.024Z', 'ValueType': 'DateTimeOffset'}], 'Assets': [{'Type': 'QUICKLOOK', 'Id': 'a603f2b6-63c6-4195-9e35-8d5880d64b4e', 'DownloadLink': 'https://datahub.creodias.eu/odata/v1/Assets(a603f2b6-63c6-4195-9e35-8d5880d64b4e)/$value', 'S3Path': '/eodata/Sentinel-2/MSI/L2A_N0500/2021/01/08/S2A_MSIL2A_20210108T160641_N0500_R097_T18TVR_20230602T163101.SAFE'}]}, {'@odata.mediaContentType': 'application/octet-stream', 'Id': 'a3b37027-57ec-4354-99cd-4245e823fb9e', 'Name': 'S2B_MSIL2A_20210123T160549_N0500_R097_T18TVR_20230522T161321.SAFE', 'ContentType': 'application/octet-stream', 'ContentLength': 1239684867, 'OriginDate': '2023-06-27T08:26:57.646Z', 'PublicationDate': '2023-06-27T08:54:23.711Z', 'ModificationDate': '2024-05-06T15:45:25.489Z', 'Online': True, 'EvictionDate': '', 'S3Path': '/eodata/Sentinel-2/MSI/L2A_N0500/2021/01/23/S2B_MSIL2A_20210123T160549_N0500_R097_T18TVR_20230522T161321.SAFE', 'Checksum': [{'Value': '9791e512dc1de486f6141bda55cd12fb', 'Algorithm': 'MD5', 'ChecksumDate': '2023-06-27T08:54:36.729014Z'}, {'Value': 'f35011b3a640260f92591c2ff83af4fc808fde7c997ce786862ef8870e37fb84', 'Algorithm': 'BLAKE3', 'ChecksumDate': '2023-06-27T08:54:38.027651Z'}], 'ContentDate': {'Start': '2021-01-23T16:05:49.024Z', 'End': '2021-01-23T16:05:49.024Z'}, 'Footprint': \"geography'SRID=4326;POLYGON ((-76.29306 46.0462596089832, -76.27057 45.0581916702363, -74.87604 45.0651927065434, -74.87384 46.0535047357316, -76.29306 46.0462596089832))'\", 'GeoFootprint': {'type': 'Polygon', 'coordinates': [[[-76.29306, 46.0462596089832], [-76.27057, 45.0581916702363], [-74.87604, 45.0651927065434], [-74.87384, 46.0535047357316], [-76.29306, 46.0462596089832]]]}, 'Attributes': [{'@odata.type': '#OData.CSC.StringAttribute', 'Name': 'origin', 'Value': 'ESA', 'ValueType': 'String'}, {'@odata.type': '#OData.CSC.StringAttribute', 'Name': 'tileId', 'Value': '18TVR', 'ValueType': 'String'}, {'@odata.type': '#OData.CSC.DoubleAttribute', 'Name': 'cloudCover', 'Value': 16.454685, 'ValueType': 'Double'}, {'@odata.type': '#OData.CSC.StringAttribute', 'Name': 'datastripId', 'Value': 'S2B_OPER_MSI_L2A_DS_S2RP_20230522T161321_S20210123T160552_N05.00', 'ValueType': 'String'}, {'@odata.type': '#OData.CSC.IntegerAttribute', 'Name': 'orbitNumber', 'Value': 20286, 'ValueType': 'Integer'}, {'@odata.type': '#OData.CSC.StringAttribute', 'Name': 'orbitDirection', 'Value': 'DESCENDING', 'ValueType': 'String'}, {'@odata.type': '#OData.CSC.DateTimeOffsetAttribute', 'Name': 'processingDate', 'Value': '2023-05-22T16:13:21+00:00', 'ValueType': 'DateTimeOffset'}, {'@odata.type': '#OData.CSC.StringAttribute', 'Name': 'productGroupId', 'Value': 'GS2B_20210123T160549_020286_N05.00', 'ValueType': 'String'}, {'@odata.type': '#OData.CSC.StringAttribute', 'Name': 'processingLevel', 'Value': 'S2MSI2A', 'ValueType': 'String'}, {'@odata.type': '#OData.CSC.StringAttribute', 'Name': 'processorVersion', 'Value': '05.00', 'ValueType': 'String'}, {'@odata.type': '#OData.CSC.StringAttribute', 'Name': 'platformShortName', 'Value': 'SENTINEL-2', 'ValueType': 'String'}, {'@odata.type': '#OData.CSC.StringAttribute', 'Name': 'instrumentShortName', 'Value': 'MSI', 'ValueType': 'String'}, {'@odata.type': '#OData.CSC.IntegerAttribute', 'Name': 'relativeOrbitNumber', 'Value': 97, 'ValueType': 'Integer'}, {'@odata.type': '#OData.CSC.StringAttribute', 'Name': 'platformSerialIdentifier', 'Value': 'B', 'ValueType': 'String'}, {'@odata.type': '#OData.CSC.StringAttribute', 'Name': 'productType', 'Value': 'S2MSI2A', 'ValueType': 'String'}, {'@odata.type': '#OData.CSC.DateTimeOffsetAttribute', 'Name': 'beginningDateTime', 'Value': '2021-01-23T16:05:49.024Z', 'ValueType': 'DateTimeOffset'}, {'@odata.type': '#OData.CSC.DateTimeOffsetAttribute', 'Name': 'endingDateTime', 'Value': '2021-01-23T16:05:49.024Z', 'ValueType': 'DateTimeOffset'}], 'Assets': [{'Type': 'QUICKLOOK', 'Id': 'd782bf7f-8f40-4ba6-86fb-e4df72d63d53', 'DownloadLink': 'https://datahub.creodias.eu/odata/v1/Assets(d782bf7f-8f40-4ba6-86fb-e4df72d63d53)/$value', 'S3Path': '/eodata/Sentinel-2/MSI/L2A_N0500/2021/01/23/S2B_MSIL2A_20210123T160549_N0500_R097_T18TVR_20230522T161321.SAFE'}]}]}\n",
      "{'@odata.context': '$metadata#Products(Attributes())(Assets())', 'value': []}\n",
      "{'@odata.context': '$metadata#Products(Attributes())(Assets())', 'value': []}\n",
      "{'@odata.context': '$metadata#Products(Attributes())(Assets())', 'value': []}\n"
     ]
    }
   ],
   "source": [
    "for year in range(2017, 2024+1):\n",
    "    for month in range(1, 12+1):\n",
    "        start_date = f'{year}-{month:02}-01T00:00:00.000Z'\n",
    "        end_day = monthrange(year, month)[1]\n",
    "        end_date = f'{year}-{month:02}-{end_day:02}T23:59:59.999Z'\n",
    "\n",
    "        url = (f\"{url_start}\"\n",
    "               f\"(ContentDate/Start ge {start_date} and ContentDate/Start le {end_date}) and \"\n",
    "               f\"{url_end}\")\n",
    "\n",
    "        # Encode URL\n",
    "        url_encoded = requote_uri(url)\n",
    "\n",
    "        # Remove unnecessasary characters from encoded URL\n",
    "        url_encoded_cleared = url_encoded.replace('%0A', '')\n",
    "\n",
    "        # Obtain and print the response\n",
    "        response = requests.get(url_encoded_cleared)\n",
    "        response = response.json()\n",
    "        \n",
    "        print(response)\n",
    "\n",
    "        break"
   ]
  },
  {
   "cell_type": "code",
   "execution_count": null,
   "id": "7cc91366",
   "metadata": {},
   "outputs": [],
   "source": []
  }
 ],
 "metadata": {
  "kernelspec": {
   "display_name": "Python 3 (ipykernel)",
   "language": "python",
   "name": "python3"
  },
  "language_info": {
   "codemirror_mode": {
    "name": "ipython",
    "version": 3
   },
   "file_extension": ".py",
   "mimetype": "text/x-python",
   "name": "python",
   "nbconvert_exporter": "python",
   "pygments_lexer": "ipython3",
   "version": "3.10.6"
  },
  "toc": {
   "base_numbering": 1,
   "nav_menu": {},
   "number_sections": false,
   "sideBar": false,
   "skip_h1_title": false,
   "title_cell": "Table of Contents",
   "title_sidebar": "Contents",
   "toc_cell": false,
   "toc_position": {},
   "toc_section_display": false,
   "toc_window_display": false
  }
 },
 "nbformat": 4,
 "nbformat_minor": 5
}
